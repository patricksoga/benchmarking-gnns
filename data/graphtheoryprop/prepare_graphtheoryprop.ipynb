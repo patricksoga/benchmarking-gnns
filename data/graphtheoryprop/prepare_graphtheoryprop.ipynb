{
    "cells": [
        {
            "cell_type": "markdown",
            "metadata": {},
            "source": [
                "# Notebook for preparing and saving GraphTheoryProp graphs"
            ]
        },
        {
            "cell_type": "code",
            "execution_count": 1,
            "metadata": {},
            "outputs": [
                {
                    "name": "stderr",
                    "output_type": "stream",
                    "text": [
                        "/home/psoga/.virtualenvs/gnn/lib/python3.8/site-packages/tqdm/auto.py:22: TqdmWarning: IProgress not found. Please update jupyter and ipywidgets. See https://ipywidgets.readthedocs.io/en/stable/user_install.html\n",
                        "  from .autonotebook import tqdm as notebook_tqdm\n"
                    ]
                }
            ],
            "source": [
                "import numpy as np\n",
                "import torch\n",
                "import pickle\n",
                "import time\n",
                "import os\n",
                "%matplotlib inline\n",
                "import matplotlib.pyplot as plt\n"
            ]
        },
        {
            "cell_type": "markdown",
            "metadata": {},
            "source": [
                "# Download GraphTheoryProp dataset\n",
                "Actual source https://github.com/lukecavabarrett/pna"
            ]
        },
        {
            "cell_type": "code",
            "execution_count": 11,
            "metadata": {},
            "outputs": [
                {
                    "name": "stdout",
                    "output_type": "stream",
                    "text": [
                        "downloading..\n",
                        "  % Total    % Received % Xferd  Average Speed   Time    Time     Time  Current\n",
                        "                                 Dload  Upload   Total   Spent    Left  Speed\n",
                        "100   145    0   145    0     0    559      0 --:--:-- --:--:-- --:--:--   559\n",
                        "100   363  100   363    0     0    649      0 --:--:-- --:--:-- --:--:--   649\n",
                        "100 12.3M  100 12.3M    0     0  5038k      0  0:00:02  0:00:02 --:--:-- 10.9M\n"
                    ]
                }
            ],
            "source": [
                "if not os.path.isfile('multitask_dataset.pkl'):\n",
                "    print('downloading..')\n",
                "    !curl https://www.dropbox.com/s/zdevjruk7k6yuqc/multitask_dataset.pkl?dl=1 -o multitask_dataset.pkl -J -L -k\n",
                "else:\n",
                "    print('File already downloaded')\n",
                "    "
            ]
        },
        {
            "cell_type": "markdown",
            "metadata": {},
            "source": [
                "# Convert to DGL format and save with pickle"
            ]
        },
        {
            "cell_type": "code",
            "execution_count": 6,
            "metadata": {},
            "outputs": [
                {
                    "name": "stdout",
                    "output_type": "stream",
                    "text": [
                        "/home/psoga/Documents/projects/benchmarking-gnns\n"
                    ]
                }
            ],
            "source": [
                "import os\n",
                "os.chdir('../../') # go to root folder of the project\n",
                "print(os.getcwd())\n"
            ]
        },
        {
            "cell_type": "code",
            "execution_count": 7,
            "metadata": {},
            "outputs": [
                {
                    "name": "stdout",
                    "output_type": "stream",
                    "text": [
                        "The autoreload extension is already loaded. To reload it, use:\n",
                        "  %reload_ext autoreload\n"
                    ]
                },
                {
                    "name": "stderr",
                    "output_type": "stream",
                    "text": [
                        "Using backend: pytorch\n"
                    ]
                }
            ],
            "source": [
                "import pickle\n",
                "\n",
                "%load_ext autoreload\n",
                "%autoreload 2\n",
                "\n",
                "from data.graphtheoryprop import GraphTheoryPropDatasetDGL \n",
                "\n",
                "from data.data import LoadData\n",
                "from torch.utils.data import DataLoader\n",
                "from data.graphtheoryprop import GraphTheoryPropDataset\n"
            ]
        },
        {
            "cell_type": "code",
            "execution_count": 8,
            "metadata": {},
            "outputs": [
                {
                    "name": "stdout",
                    "output_type": "stream",
                    "text": [
                        "preparing graphs for the TRAIN set...\n"
                    ]
                },
                {
                    "name": "stderr",
                    "output_type": "stream",
                    "text": [
                        "/home/psoga/.virtualenvs/gnn/lib/python3.8/site-packages/dgl/base.py:45: DGLWarning: Recommend creating graphs by `dgl.graph(data)` instead of `dgl.DGLGraph(data)`.\n",
                        "  return warnings.warn(message, category=category, stacklevel=1)\n"
                    ]
                },
                {
                    "name": "stdout",
                    "output_type": "stream",
                    "text": [
                        "preparing graphs for the VAL set...\n",
                        "preparing graphs for the TEST set...\n",
                        "Time taken: 2.7954s\n"
                    ]
                }
            ],
            "source": [
                "DATASET_NAME = 'GraphTheoryProp'\n",
                "dataset = GraphTheoryPropDatasetDGL(DATASET_NAME) "
            ]
        },
        {
            "cell_type": "code",
            "execution_count": 9,
            "metadata": {},
            "outputs": [
                {
                    "data": {
                        "image/png": "[encoded data removed]",
                        "text/plain": [
                            "<Figure size 432x288 with 1 Axes>"
                        ]
                    },
                    "metadata": {
                        "needs_background": "light"
                    },
                    "output_type": "display_data"
                },
                {
                    "name": "stdout",
                    "output_type": "stream",
                    "text": [
                        "min/max : 15 24\n"
                    ]
                },
                {
                    "data": {
                        "image/png": "[encoded data removed]",
                        "text/plain": [
                            "<Figure size 432x288 with 1 Axes>"
                        ]
                    },
                    "metadata": {
                        "needs_background": "light"
                    },
                    "output_type": "display_data"
                },
                {
                    "name": "stdout",
                    "output_type": "stream",
                    "text": [
                        "min/max : 15 19\n"
                    ]
                },
                {
                    "data": {
                        "image/png": "[encoded data removed]",
                        "text/plain": [
                            "<Figure size 432x288 with 1 Axes>"
                        ]
                    },
                    "metadata": {
                        "needs_background": "light"
                    },
                    "output_type": "display_data"
                },
                {
                    "name": "stdout",
                    "output_type": "stream",
                    "text": [
                        "min/max : 15 19\n"
                    ]
                }
            ],
            "source": [
                "def plot_histo_graphs(dataset, title):\n",
                "    # histogram of graph sizes\n",
                "    graph_sizes = []\n",
                "    for graph in dataset:\n",
                "        graph_sizes.append(graph[0].number_of_nodes())\n",
                "    plt.figure(1)\n",
                "    plt.hist(graph_sizes, bins=20)\n",
                "    plt.title(title)\n",
                "    plt.show()\n",
                "    graph_sizes = torch.Tensor(graph_sizes)\n",
                "    print('min/max :',graph_sizes.min().long().item(),graph_sizes.max().long().item())\n",
                "    \n",
                "plot_histo_graphs(dataset.train,'trainset')\n",
                "plot_histo_graphs(dataset.val,'valset')\n",
                "plot_histo_graphs(dataset.test,'testset')\n"
            ]
        },
        {
            "cell_type": "code",
            "execution_count": 13,
            "metadata": {},
            "outputs": [
                {
                    "ename": "AttributeError",
                    "evalue": "'tuple' object has no attribute 'ndata_schemes'",
                    "output_type": "error",
                    "traceback": [
                        "\u001b[0;31m---------------------------------------------------------------------------\u001b[0m",
                        "\u001b[0;31mAttributeError\u001b[0m                            Traceback (most recent call last)",
                        "\u001b[1;32m/home/psoga/Documents/projects/benchmarking-gnns/data/graphtheoryprop/prepare_graphtheoryprop.ipynb Cell 10'\u001b[0m in \u001b[0;36m<cell line: 5>\u001b[0;34m()\u001b[0m\n\u001b[1;32m      <a href='vscode-notebook-cell:/home/psoga/Documents/projects/benchmarking-gnns/data/graphtheoryprop/prepare_graphtheoryprop.ipynb#ch0000009?line=0'>1</a>\u001b[0m \u001b[39m#print(len(dataset.train))\u001b[39;00m\n\u001b[1;32m      <a href='vscode-notebook-cell:/home/psoga/Documents/projects/benchmarking-gnns/data/graphtheoryprop/prepare_graphtheoryprop.ipynb#ch0000009?line=1'>2</a>\u001b[0m \u001b[39m#print(len(dataset.val))\u001b[39;00m\n\u001b[1;32m      <a href='vscode-notebook-cell:/home/psoga/Documents/projects/benchmarking-gnns/data/graphtheoryprop/prepare_graphtheoryprop.ipynb#ch0000009?line=2'>3</a>\u001b[0m \u001b[39m#print(len(dataset.test))\u001b[39;00m\n\u001b[0;32m----> <a href='vscode-notebook-cell:/home/psoga/Documents/projects/benchmarking-gnns/data/graphtheoryprop/prepare_graphtheoryprop.ipynb#ch0000009?line=4'>5</a>\u001b[0m \u001b[39mprint\u001b[39m(dataset\u001b[39m.\u001b[39;49mtrain[\u001b[39m0\u001b[39;49m]\u001b[39m.\u001b[39;49mndata_schemes)\n",
                        "\u001b[0;31mAttributeError\u001b[0m: 'tuple' object has no attribute 'ndata_schemes'"
                    ]
                }
            ],
            "source": [
                "#print(len(dataset.train))\n",
                "#print(len(dataset.val))\n",
                "#print(len(dataset.test))\n",
                "\n",
                "print(dataset.train[0][\"ndata_schemes\"])\n",
                "# print(dataset.val[0])\n",
                "# print(dataset.test[0])\n"
            ]
        },
        {
            "cell_type": "code",
            "execution_count": null,
            "metadata": {},
            "outputs": [],
            "source": []
        },
        {
            "cell_type": "code",
            "execution_count": null,
            "metadata": {},
            "outputs": [
                {
                    "name": "stdout",
                    "output_type": "stream",
                    "text": [
                        "Time (sec): 6.707483291625977\n"
                    ]
                }
            ],
            "source": [
                "start = time.time()\n",
                "with open('data/graphtheoryprop/GraphTheoryProp'+'.pkl','wb') as f:\n",
                "        pickle.dump([dataset.train,dataset.val,dataset.test],f)\n",
                "print('Time (sec):',time.time() - start)\n"
            ]
        },
        {
            "cell_type": "markdown",
            "metadata": {},
            "source": [
                "# Test load function"
            ]
        },
        {
            "cell_type": "code",
            "execution_count": null,
            "metadata": {},
            "outputs": [
                {
                    "name": "stdout",
                    "output_type": "stream",
                    "text": [
                        "[I] Loading dataset GraphTheoryProp...\n",
                        "train, test, val sizes : 5120 1280 640\n",
                        "[I] Finished loading.\n",
                        "[I] Data load time: 7.1912s\n"
                    ]
                },
                {
                    "ename": "AttributeError",
                    "evalue": "'GraphTheoryPropDGL' object has no attribute 'data'",
                    "output_type": "error",
                    "traceback": [
                        "\u001b[0;31m---------------------------------------------------------------------------\u001b[0m",
                        "\u001b[0;31mAttributeError\u001b[0m                            Traceback (most recent call last)",
                        "\u001b[1;32m/home/psoga/Documents/projects/benchmarking-gnns/data/graphtheoryprop/prepare_graphtheoryprop.ipynb Cell 14'\u001b[0m in \u001b[0;36m<cell line: 4>\u001b[0;34m()\u001b[0m\n\u001b[1;32m      <a href='vscode-notebook-cell:/home/psoga/Documents/projects/benchmarking-gnns/data/graphtheoryprop/prepare_graphtheoryprop.ipynb#ch0000013?line=1'>2</a>\u001b[0m dataset \u001b[39m=\u001b[39m LoadData(DATASET_NAME)\n\u001b[1;32m      <a href='vscode-notebook-cell:/home/psoga/Documents/projects/benchmarking-gnns/data/graphtheoryprop/prepare_graphtheoryprop.ipynb#ch0000013?line=2'>3</a>\u001b[0m trainset, valset, testset \u001b[39m=\u001b[39m dataset\u001b[39m.\u001b[39mtrain, dataset\u001b[39m.\u001b[39mval, dataset\u001b[39m.\u001b[39mtest\n\u001b[0;32m----> <a href='vscode-notebook-cell:/home/psoga/Documents/projects/benchmarking-gnns/data/graphtheoryprop/prepare_graphtheoryprop.ipynb#ch0000013?line=3'>4</a>\u001b[0m \u001b[39mprint\u001b[39m(trainset\u001b[39m.\u001b[39;49mdata)\n",
                        "\u001b[0;31mAttributeError\u001b[0m: 'GraphTheoryPropDGL' object has no attribute 'data'"
                    ]
                }
            ],
            "source": [
                "DATASET_NAME = 'GraphTheoryProp'\n",
                "dataset = LoadData(DATASET_NAME)\n",
                "trainset, valset, testset = dataset.train, dataset.val, dataset.test\n"
            ]
        },
        {
            "cell_type": "code",
            "execution_count": null,
            "metadata": {},
            "outputs": [
                {
                    "name": "stdout",
                    "output_type": "stream",
                    "text": [
                        "<class 'data.graphtheoryprop.GraphTheoryPropDataset'>\n"
                    ]
                }
            ],
            "source": [
                "batch_size = 10\n",
                "collate = GraphTheoryPropDataset.collate\n",
                "print(GraphTheoryPropDataset)\n",
                "train_loader = DataLoader(trainset, batch_size=batch_size, shuffle=True, collate_fn=collate)\n"
            ]
        },
        {
            "cell_type": "code",
            "execution_count": null,
            "metadata": {},
            "outputs": [],
            "source": []
        },
        {
            "cell_type": "code",
            "execution_count": null,
            "metadata": {},
            "outputs": [],
            "source": []
        },
        {
            "cell_type": "code",
            "execution_count": null,
            "metadata": {},
            "outputs": [],
            "source": []
        }
    ],
    "metadata": {
        "interpreter": {
            "hash": "f7fe216062a07faf7ec3b52e917e13a4b7ba3074eea43b649aa296dc1fb0b724"
        },
        "kernelspec": {
            "display_name": "Python 3.8.10 ('gnn')",
            "language": "python",
            "name": "python3"
        },
        "language_info": {
            "codemirror_mode": {
                "name": "ipython",
                "version": 3
            },
            "file_extension": ".py",
            "mimetype": "text/x-python",
            "name": "python",
            "nbconvert_exporter": "python",
            "pygments_lexer": "ipython3",
            "version": "3.8.10"
        }
    },
    "nbformat": 4,
    "nbformat_minor": 4
}