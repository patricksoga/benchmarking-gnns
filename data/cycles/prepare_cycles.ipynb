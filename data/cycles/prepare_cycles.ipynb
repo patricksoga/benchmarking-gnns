{
    "cells": [
        {
            "cell_type": "markdown",
            "metadata": {},
            "source": [
                "# Notebook for preparing and saving CYCLES graphs"
            ]
        },
        {
            "cell_type": "code",
            "execution_count": 1,
            "metadata": {},
            "outputs": [
                {
                    "ename": "",
                    "evalue": "",
                    "output_type": "error",
                    "traceback": [
                        "The Kernel crashed while executing code in the the current cell or a previous cell. Please review the code in the cell(s) to identify a possible cause of the failure. Click <a href='https://aka.ms/vscodeJupyterKernelCrash'>here</a> for more info. View Jupyter <a href='command:jupyter.viewOutput'>log</a> for further details."
                    ]
                },
                {
                    "ename": "",
                    "evalue": "",
                    "output_type": "error",
                    "traceback": [
                        "\u001b[1;31mCanceled future for execute_request message before replies were done"
                    ]
                }
            ],
            "source": [
                "# import numpy as np\n",
                "import torch\n",
                "import pickle\n",
                "import time\n",
                "import os\n",
                "%matplotlib inline\n",
                "import matplotlib.pyplot as plt\n"
            ]
        },
        {
            "cell_type": "markdown",
            "metadata": {},
            "source": [
                "# Download CYCLES dataset for n=56 and k=6:\n",
                "For preparation for other n and k values, please change values of n and k and re-prepare"
            ]
        },
        {
            "cell_type": "code",
            "execution_count": 3,
            "metadata": {},
            "outputs": [
                {
                    "name": "stdout",
                    "output_type": "stream",
                    "text": [
                        "downloading..\n",
                        "  % Total    % Received % Xferd  Average Speed   Time    Time     Time  Current\n",
                        "                                 Dload  Upload   Total   Spent    Left  Speed\n",
                        "100   169    0   169    0     0    761      0 --:--:-- --:--:-- --:--:--   764\n",
                        "100   363  100   363    0     0    647      0 --:--:-- --:--:-- --:--:--     0\n",
                        "100  273M  100  273M    0     0  10.2M      0  0:00:26  0:00:26 --:--:-- 11.2M\n"
                    ]
                }
            ],
            "source": [
                "if not os.path.isfile('datasets_kcycle_k=6_nsamples=10000.pickle'):\n",
                "    print('downloading..')\n",
                "    # This dataset original link can be found at: https://github.com/cvignac/SMP\n",
                "    # The pickle file with k=6 is hosted at the below link and will be downloaded\n",
                "    !curl https://www.dropbox.com/s/e1nd889j7vfunnh/datasets_kcycle_k%3D6_nsamples%3D10000.pickle?dl=1 -o datasets_kcycle_k=6_nsamples=10000.pickle -J -L -k\n",
                "    # !unzip cycles.zip -d ../\n",
                "    # !tar -xvf cycles.zip -C ../\n",
                "else:\n",
                "    print('File already downloaded')\n",
                "    "
            ]
        },
        {
            "cell_type": "code",
            "execution_count": 4,
            "metadata": {},
            "outputs": [],
            "source": [
                "# Use the build_dataset() util function adatped from cvignac/SMP\n",
                "from build_cycles import build_dataset\n",
                "build_dataset()"
            ]
        },
        {
            "cell_type": "markdown",
            "metadata": {},
            "source": [
                "# Convert to DGL format and save with pickle"
            ]
        },
        {
            "cell_type": "code",
            "execution_count": 5,
            "metadata": {},
            "outputs": [
                {
                    "name": "stdout",
                    "output_type": "stream",
                    "text": [
                        "/home/psoga/Documents/projects/benchmarking-gnns\n"
                    ]
                }
            ],
            "source": [
                "import os\n",
                "os.chdir('../../') # go to root folder of the project\n",
                "print(os.getcwd())\n"
            ]
        },
        {
            "cell_type": "code",
            "execution_count": 6,
            "metadata": {},
            "outputs": [
                {
                    "name": "stderr",
                    "output_type": "stream",
                    "text": [
                        "Using backend: pytorch\n"
                    ]
                }
            ],
            "source": [
                "import pickle\n",
                "\n",
                "%load_ext autoreload\n",
                "%autoreload 2\n",
                "\n",
                "from data.cycles import CyclesDatasetDGL \n",
                "\n",
                "from data.data import LoadData\n",
                "from torch.utils.data import DataLoader\n",
                "from data.cycles import CyclesDataset\n"
            ]
        },
        {
            "cell_type": "code",
            "execution_count": 7,
            "metadata": {},
            "outputs": [
                {
                    "name": "stdout",
                    "output_type": "stream",
                    "text": [
                        "preparing 9000 graphs for the TRAIN set...\n"
                    ]
                },
                {
                    "name": "stderr",
                    "output_type": "stream",
                    "text": [
                        "/home/psoga/.virtualenvs/gnn/lib/python3.8/site-packages/dgl/base.py:45: DGLWarning: Recommend creating graphs by `dgl.graph(data)` instead of `dgl.DGLGraph(data)`.\n",
                        "  return warnings.warn(message, category=category, stacklevel=1)\n"
                    ]
                },
                {
                    "name": "stdout",
                    "output_type": "stream",
                    "text": [
                        "preparing 1000 graphs for the VAL set...\n",
                        "preparing 10000 graphs for the TEST set...\n",
                        "Time taken: 349.0540s\n"
                    ]
                }
            ],
            "source": [
                "DATASET_NAME = 'CYCLES'\n",
                "n = 56\n",
                "k = 6\n",
                "dataset = CyclesDatasetDGL(DATASET_NAME, n=n, k=k) "
            ]
        },
        {
            "cell_type": "code",
            "execution_count": 8,
            "metadata": {},
            "outputs": [
                {
                    "data": {
                        "image/png": "[encoded data removed]",
                        "text/plain": [
                            "<Figure size 432x288 with 1 Axes>"
                        ]
                    },
                    "metadata": {
                        "needs_background": "light"
                    },
                    "output_type": "display_data"
                },
                {
                    "name": "stdout",
                    "output_type": "stream",
                    "text": [
                        "min/max : 38 64\n"
                    ]
                },
                {
                    "data": {
                        "image/png": "[encoded data removed]",
                        "text/plain": [
                            "<Figure size 432x288 with 1 Axes>"
                        ]
                    },
                    "metadata": {
                        "needs_background": "light"
                    },
                    "output_type": "display_data"
                },
                {
                    "name": "stdout",
                    "output_type": "stream",
                    "text": [
                        "min/max : 38 65\n"
                    ]
                },
                {
                    "data": {
                        "image/png": "[encoded data removed]",
                        "text/plain": [
                            "<Figure size 432x288 with 1 Axes>"
                        ]
                    },
                    "metadata": {
                        "needs_background": "light"
                    },
                    "output_type": "display_data"
                },
                {
                    "name": "stdout",
                    "output_type": "stream",
                    "text": [
                        "min/max : 37 63\n"
                    ]
                }
            ],
            "source": [
                "def plot_histo_graphs(dataset, title):\n",
                "    # histogram of graph sizes\n",
                "    graph_sizes = []\n",
                "    for graph in dataset:\n",
                "        graph_sizes.append(graph[0].number_of_nodes())\n",
                "    plt.figure(1)\n",
                "    plt.hist(graph_sizes, bins=20)\n",
                "    plt.title(title)\n",
                "    plt.show()\n",
                "    graph_sizes = torch.Tensor(graph_sizes)\n",
                "    print('min/max :',graph_sizes.min().long().item(),graph_sizes.max().long().item())\n",
                "    \n",
                "plot_histo_graphs(dataset.train,'trainset')\n",
                "plot_histo_graphs(dataset.val,'valset')\n",
                "plot_histo_graphs(dataset.test,'testset')\n"
            ]
        },
        {
            "cell_type": "code",
            "execution_count": 62,
            "metadata": {},
            "outputs": [
                {
                    "name": "stdout",
                    "output_type": "stream",
                    "text": [
                        "55\n"
                    ]
                }
            ],
            "source": [
                "import dgl\n",
                "import networkx as nx\n",
                "# print(len(dataset.train))\n",
                "# print(len(dataset.val))\n",
                "# print(len(dataset.test))\n",
                "print(len(dataset.train[23][0]))\n",
                "print(max(dataset, key=lambda x: len(x[0])))\n",
                "# print(dataset.val[0])\n",
                "# print(dataset.test[0])"
            ]
        },
        {
            "cell_type": "code",
            "execution_count": null,
            "metadata": {},
            "outputs": [],
            "source": []
        },
        {
            "cell_type": "code",
            "execution_count": 9,
            "metadata": {},
            "outputs": [
                {
                    "name": "stdout",
                    "output_type": "stream",
                    "text": [
                        "Time (sec): 7.550283193588257\n"
                    ]
                }
            ],
            "source": [
                "start = time.time()\n",
                "with open('data/cycles/CYCLES'+'_'+str(k)+'_'+str(n)+'.pkl','wb') as f:\n",
                "        pickle.dump([dataset.train,dataset.val,dataset.test],f)\n",
                "print('Time (sec):',time.time() - start)\n"
            ]
        },
        {
            "cell_type": "markdown",
            "metadata": {},
            "source": [
                "# Test load function"
            ]
        },
        {
            "cell_type": "code",
            "execution_count": 10,
            "metadata": {},
            "outputs": [
                {
                    "name": "stdout",
                    "output_type": "stream",
                    "text": [
                        "[I] Loading dataset CYCLES...\n",
                        "train, test, val sizes : 9000 10000 1000\n",
                        "[I] Finished loading.\n",
                        "[I] Data load time: 9.1989s\n"
                    ]
                }
            ],
            "source": [
                "DATASET_NAME = 'CYCLES'\n",
                "dataset = LoadData(DATASET_NAME)\n",
                "trainset, valset, testset = dataset.train, dataset.val, dataset.test\n"
            ]
        },
        {
            "cell_type": "code",
            "execution_count": 11,
            "metadata": {},
            "outputs": [
                {
                    "name": "stdout",
                    "output_type": "stream",
                    "text": [
                        "<class 'data.cycles.CyclesDataset'>\n"
                    ]
                }
            ],
            "source": [
                "batch_size = 10\n",
                "collate = CyclesDataset.collate\n",
                "print(CyclesDataset)\n",
                "train_loader = DataLoader(trainset, batch_size=batch_size, shuffle=True, collate_fn=collate)\n"
            ]
        },
        {
            "cell_type": "code",
            "execution_count": null,
            "metadata": {},
            "outputs": [],
            "source": []
        },
        {
            "cell_type": "code",
            "execution_count": null,
            "metadata": {},
            "outputs": [],
            "source": []
        }
    ],
    "metadata": {
        "kernelspec": {
            "display_name": "Python 3.10.4 ('rosetta')",
            "language": "python",
            "name": "python3"
        },
        "language_info": {
            "codemirror_mode": {
                "name": "ipython",
                "version": 3
            },
            "file_extension": ".py",
            "mimetype": "text/x-python",
            "name": "python",
            "nbconvert_exporter": "python",
            "pygments_lexer": "ipython3",
            "version": "3.10.4"
        },
        "vscode": {
            "interpreter": {
                "hash": "04d843b083f9366f9cfabfb04416dd64918f3363d63a857017d95a29fbf47fcd"
            }
        }
    },
    "nbformat": 4,
    "nbformat_minor": 4
}
