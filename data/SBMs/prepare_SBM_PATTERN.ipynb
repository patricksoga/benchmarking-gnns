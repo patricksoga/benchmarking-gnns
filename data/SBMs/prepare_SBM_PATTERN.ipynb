{
 "cells": [
  {
   "cell_type": "markdown",
   "metadata": {},
   "source": [
    "# Notebook for preparing and saving SBM_PATTERN graphs in DGL form"
   ]
  },
  {
   "cell_type": "code",
   "execution_count": 1,
   "metadata": {},
   "outputs": [
    {
     "name": "stderr",
     "output_type": "stream",
     "text": [
      "/home/psoga/.virtualenvs/gnn/lib/python3.8/site-packages/tqdm/auto.py:22: TqdmWarning: IProgress not found. Please update jupyter and ipywidgets. See https://ipywidgets.readthedocs.io/en/stable/user_install.html\n",
      "  from .autonotebook import tqdm as notebook_tqdm\n"
     ]
    }
   ],
   "source": [
    "import numpy as np\n",
    "import torch\n",
    "import pickle\n",
    "import time\n",
    "import os\n",
    "%matplotlib inline\n",
    "import matplotlib.pyplot as plt"
   ]
  },
  {
   "cell_type": "markdown",
   "metadata": {},
   "source": [
    "## Download SBM_PATTERN dataset"
   ]
  },
  {
   "cell_type": "code",
   "execution_count": 2,
   "metadata": {},
   "outputs": [],
   "source": [
    "if not os.path.isfile('SBM_PATTERN.zip'):\n",
    "    print('downloading..')\n",
    "    !curl https://www.dropbox.com/s/qvu0r11tjyt6jyb/SBM_PATTERN.zip?dl=1 -o SBM_PATTERN.zip -J -L -k\n",
    "    !unzip SBM_PATTERN.zip -d ./\n",
    "    !rm -r __MACOSX/\n",
    "else:\n",
    "    print('File already downloaded')"
   ]
  },
  {
   "cell_type": "markdown",
   "metadata": {},
   "source": [
    "## Convert to DGL format and save with pickle"
   ]
  },
  {
   "cell_type": "code",
   "execution_count": 2,
   "metadata": {},
   "outputs": [
    {
     "name": "stdout",
     "output_type": "stream",
     "text": [
      "/home/psoga/Documents/projects/benchmarking-gnns\n"
     ]
    }
   ],
   "source": [
    "import os\n",
    "os.chdir('../../') # go to root folder of the project\n",
    "print(os.getcwd())"
   ]
  },
  {
   "cell_type": "code",
   "execution_count": 3,
   "metadata": {},
   "outputs": [
    {
     "name": "stderr",
     "output_type": "stream",
     "text": [
      "Using backend: pytorch\n"
     ]
    }
   ],
   "source": [
    "import pickle\n",
    "\n",
    "%load_ext autoreload\n",
    "%autoreload 2\n",
    "\n",
    "from data.SBMs import SBMsDatasetDGL \n",
    "\n",
    "from data.data import LoadData\n",
    "from torch.utils.data import DataLoader\n",
    "from data.SBMs import SBMsDataset"
   ]
  },
  {
   "cell_type": "code",
   "execution_count": 4,
   "metadata": {},
   "outputs": [],
   "source": [
    "class DotDict(dict):\n",
    "    def __init__(self, **kwds):\n",
    "        self.update(kwds)\n",
    "        self.__dict__ = self"
   ]
  },
  {
   "cell_type": "code",
   "execution_count": 5,
   "metadata": {},
   "outputs": [
    {
     "name": "stdout",
     "output_type": "stream",
     "text": [
      "[I] Loading data ...\n"
     ]
    },
    {
     "ename": "FileNotFoundError",
     "evalue": "[Errno 2] No such file or directory: 'data/SBMs/SBM_PATTERN_train.pkl'",
     "output_type": "error",
     "traceback": [
      "\u001b[0;31m---------------------------------------------------------------------------\u001b[0m",
      "\u001b[0;31mFileNotFoundError\u001b[0m                         Traceback (most recent call last)",
      "\u001b[1;32m/home/psoga/Documents/projects/benchmarking-gnns/data/SBMs/prepare_SBM_PATTERN.ipynb Cell 9'\u001b[0m in \u001b[0;36m<cell line: 4>\u001b[0;34m()\u001b[0m\n\u001b[1;32m      <a href='vscode-notebook-cell:/home/psoga/Documents/projects/benchmarking-gnns/data/SBMs/prepare_SBM_PATTERN.ipynb#ch0000008?line=0'>1</a>\u001b[0m start \u001b[39m=\u001b[39m time\u001b[39m.\u001b[39mtime()\n\u001b[1;32m      <a href='vscode-notebook-cell:/home/psoga/Documents/projects/benchmarking-gnns/data/SBMs/prepare_SBM_PATTERN.ipynb#ch0000008?line=2'>3</a>\u001b[0m DATASET_NAME \u001b[39m=\u001b[39m \u001b[39m'\u001b[39m\u001b[39mSBM_PATTERN\u001b[39m\u001b[39m'\u001b[39m\n\u001b[0;32m----> <a href='vscode-notebook-cell:/home/psoga/Documents/projects/benchmarking-gnns/data/SBMs/prepare_SBM_PATTERN.ipynb#ch0000008?line=3'>4</a>\u001b[0m dataset \u001b[39m=\u001b[39m SBMsDatasetDGL(DATASET_NAME) \n\u001b[1;32m      <a href='vscode-notebook-cell:/home/psoga/Documents/projects/benchmarking-gnns/data/SBMs/prepare_SBM_PATTERN.ipynb#ch0000008?line=5'>6</a>\u001b[0m \u001b[39mprint\u001b[39m(\u001b[39m'\u001b[39m\u001b[39mTime (sec):\u001b[39m\u001b[39m'\u001b[39m,time\u001b[39m.\u001b[39mtime() \u001b[39m-\u001b[39m start)\n",
      "File \u001b[0;32m~/Documents/projects/benchmarking-gnns/data/SBMs.py:87\u001b[0m, in \u001b[0;36mSBMsDatasetDGL.__init__\u001b[0;34m(self, name)\u001b[0m\n\u001b[1;32m     85\u001b[0m \u001b[39mself\u001b[39m\u001b[39m.\u001b[39mname \u001b[39m=\u001b[39m name\n\u001b[1;32m     86\u001b[0m data_dir \u001b[39m=\u001b[39m \u001b[39m'\u001b[39m\u001b[39mdata/SBMs\u001b[39m\u001b[39m'\u001b[39m\n\u001b[0;32m---> 87\u001b[0m \u001b[39mself\u001b[39m\u001b[39m.\u001b[39mtrain \u001b[39m=\u001b[39m load_SBMsDataSetDGL(data_dir, name, split\u001b[39m=\u001b[39;49m\u001b[39m'\u001b[39;49m\u001b[39mtrain\u001b[39;49m\u001b[39m'\u001b[39;49m)\n\u001b[1;32m     88\u001b[0m \u001b[39mself\u001b[39m\u001b[39m.\u001b[39mtest \u001b[39m=\u001b[39m load_SBMsDataSetDGL(data_dir, name, split\u001b[39m=\u001b[39m\u001b[39m'\u001b[39m\u001b[39mtest\u001b[39m\u001b[39m'\u001b[39m)\n\u001b[1;32m     89\u001b[0m \u001b[39mself\u001b[39m\u001b[39m.\u001b[39mval \u001b[39m=\u001b[39m load_SBMsDataSetDGL(data_dir, name, split\u001b[39m=\u001b[39m\u001b[39m'\u001b[39m\u001b[39mval\u001b[39m\u001b[39m'\u001b[39m)\n",
      "File \u001b[0;32m~/Documents/projects/benchmarking-gnns/data/SBMs.py:24\u001b[0m, in \u001b[0;36mload_SBMsDataSetDGL.__init__\u001b[0;34m(self, data_dir, name, split)\u001b[0m\n\u001b[1;32m     22\u001b[0m \u001b[39mself\u001b[39m\u001b[39m.\u001b[39msplit \u001b[39m=\u001b[39m split\n\u001b[1;32m     23\u001b[0m \u001b[39mself\u001b[39m\u001b[39m.\u001b[39mis_test \u001b[39m=\u001b[39m split\u001b[39m.\u001b[39mlower() \u001b[39min\u001b[39;00m [\u001b[39m'\u001b[39m\u001b[39mtest\u001b[39m\u001b[39m'\u001b[39m, \u001b[39m'\u001b[39m\u001b[39mval\u001b[39m\u001b[39m'\u001b[39m] \n\u001b[0;32m---> 24\u001b[0m \u001b[39mwith\u001b[39;00m \u001b[39mopen\u001b[39;49m(os\u001b[39m.\u001b[39;49mpath\u001b[39m.\u001b[39;49mjoin(data_dir, name \u001b[39m+\u001b[39;49m \u001b[39m'\u001b[39;49m\u001b[39m_\u001b[39;49m\u001b[39m%s\u001b[39;49;00m\u001b[39m.pkl\u001b[39;49m\u001b[39m'\u001b[39;49m \u001b[39m%\u001b[39;49m \u001b[39mself\u001b[39;49m\u001b[39m.\u001b[39;49msplit), \u001b[39m'\u001b[39;49m\u001b[39mrb\u001b[39;49m\u001b[39m'\u001b[39;49m) \u001b[39mas\u001b[39;00m f:\n\u001b[1;32m     25\u001b[0m     \u001b[39mself\u001b[39m\u001b[39m.\u001b[39mdataset \u001b[39m=\u001b[39m pickle\u001b[39m.\u001b[39mload(f)\n\u001b[1;32m     26\u001b[0m \u001b[39mself\u001b[39m\u001b[39m.\u001b[39mnode_labels \u001b[39m=\u001b[39m []\n",
      "\u001b[0;31mFileNotFoundError\u001b[0m: [Errno 2] No such file or directory: 'data/SBMs/SBM_PATTERN_train.pkl'"
     ]
    }
   ],
   "source": [
    "start = time.time()\n",
    "\n",
    "DATASET_NAME = 'SBM_PATTERN'\n",
    "dataset = SBMsDatasetDGL(DATASET_NAME) \n",
    "\n",
    "print('Time (sec):',time.time() - start) "
   ]
  },
  {
   "cell_type": "code",
   "execution_count": 12,
   "metadata": {},
   "outputs": [
    {
     "name": "stdout",
     "output_type": "stream",
     "text": [
      "10000\n",
      "2000\n",
      "2000\n",
      "(Graph(num_nodes=108, num_edges=4884,\n",
      "      ndata_schemes={'feat': Scheme(shape=(), dtype=torch.int64)}\n",
      "      edata_schemes={'feat': Scheme(shape=(1,), dtype=torch.float32)}), tensor([0, 0, 0, 0, 0, 0, 1, 0, 0, 0, 0, 0, 0, 0, 0, 1, 0, 0, 0, 0, 0, 0, 0, 0,\n",
      "        0, 0, 0, 0, 0, 0, 0, 0, 0, 0, 0, 0, 1, 0, 0, 0, 1, 0, 0, 0, 0, 0, 0, 0,\n",
      "        0, 1, 0, 0, 0, 0, 0, 1, 0, 1, 0, 1, 0, 0, 0, 0, 0, 0, 0, 0, 0, 0, 0, 1,\n",
      "        0, 0, 0, 0, 0, 1, 0, 0, 1, 0, 0, 0, 0, 1, 0, 0, 1, 1, 0, 0, 0, 0, 0, 0,\n",
      "        1, 0, 0, 0, 1, 0, 1, 1, 0, 0, 0, 0], dtype=torch.int16))\n",
      "(Graph(num_nodes=108, num_edges=4738,\n",
      "      ndata_schemes={'feat': Scheme(shape=(), dtype=torch.int64)}\n",
      "      edata_schemes={'feat': Scheme(shape=(1,), dtype=torch.float32)}), tensor([0, 0, 0, 0, 0, 0, 0, 0, 0, 0, 0, 0, 0, 0, 0, 0, 1, 0, 0, 0, 0, 0, 0, 0,\n",
      "        0, 1, 1, 0, 0, 0, 0, 0, 1, 0, 0, 0, 0, 0, 0, 0, 0, 0, 0, 0, 0, 0, 0, 0,\n",
      "        1, 0, 1, 0, 0, 0, 0, 1, 0, 1, 0, 0, 0, 0, 0, 0, 0, 1, 0, 0, 0, 1, 0, 1,\n",
      "        0, 0, 0, 0, 0, 1, 0, 0, 0, 0, 0, 0, 0, 0, 0, 0, 0, 0, 0, 0, 0, 1, 1, 0,\n",
      "        0, 0, 0, 0, 0, 1, 0, 1, 0, 0, 1, 1], dtype=torch.int16))\n",
      "(Graph(num_nodes=94, num_edges=3772,\n",
      "      ndata_schemes={'feat': Scheme(shape=(), dtype=torch.int64)}\n",
      "      edata_schemes={'feat': Scheme(shape=(1,), dtype=torch.float32)}), tensor([0, 0, 0, 0, 1, 0, 1, 0, 0, 0, 0, 0, 1, 0, 0, 0, 0, 1, 0, 1, 0, 0, 0, 1,\n",
      "        1, 0, 0, 0, 0, 0, 0, 0, 1, 0, 0, 0, 0, 1, 0, 0, 0, 0, 0, 0, 0, 0, 0, 0,\n",
      "        1, 0, 1, 0, 0, 1, 0, 0, 0, 0, 0, 0, 0, 0, 0, 1, 0, 0, 0, 0, 0, 0, 0, 1,\n",
      "        0, 0, 0, 0, 0, 1, 0, 0, 0, 0, 1, 0, 1, 0, 0, 0, 0, 0, 0, 1, 0, 0],\n",
      "       dtype=torch.int16))\n"
     ]
    }
   ],
   "source": [
    "print(len(dataset.train))\n",
    "print(len(dataset.val))\n",
    "print(len(dataset.test))\n",
    "\n",
    "print(dataset.train[0])\n",
    "print(dataset.val[0])\n",
    "print(dataset.test[0])"
   ]
  },
  {
   "cell_type": "code",
   "execution_count": 11,
   "metadata": {},
   "outputs": [],
   "source": [
    "start = time.time()\n",
    "\n",
    "with open('data/SBMs/SBM_PATTERN.pkl','wb') as f:\n",
    "        pickle.dump([dataset.train,dataset.val,dataset.test],f)\n",
    "        \n",
    "print('Time (sec):',time.time() - start) "
   ]
  },
  {
   "cell_type": "code",
   "execution_count": 8,
   "metadata": {},
   "outputs": [
    {
     "name": "stdout",
     "output_type": "stream",
     "text": [
      "[I] Loading dataset SBM_PATTERN...\n",
      "train, test, val sizes : 10000 2000 2000\n",
      "[I] Finished loading.\n",
      "[I] Data load time: 12.3468s\n"
     ]
    }
   ],
   "source": [
    "DATASET_NAME = 'SBM_PATTERN'\n",
    "dataset = LoadData(DATASET_NAME) \n",
    "trainset, valset, testset = dataset.train, dataset.val, dataset.test"
   ]
  },
  {
   "cell_type": "code",
   "execution_count": 6,
   "metadata": {},
   "outputs": [
    {
     "ename": "NameError",
     "evalue": "name 'trainset' is not defined",
     "output_type": "error",
     "traceback": [
      "\u001b[0;31m---------------------------------------------------------------------------\u001b[0m",
      "\u001b[0;31mNameError\u001b[0m                                 Traceback (most recent call last)",
      "\u001b[1;32m/home/psoga/Documents/projects/benchmarking-gnns/data/SBMs/prepare_SBM_PATTERN.ipynb Cell 13'\u001b[0m in \u001b[0;36m<cell line: 5>\u001b[0;34m()\u001b[0m\n\u001b[1;32m      <a href='vscode-notebook-cell:/home/psoga/Documents/projects/benchmarking-gnns/data/SBMs/prepare_SBM_PATTERN.ipynb#ch0000012?line=2'>3</a>\u001b[0m batch_size \u001b[39m=\u001b[39m \u001b[39m10\u001b[39m\n\u001b[1;32m      <a href='vscode-notebook-cell:/home/psoga/Documents/projects/benchmarking-gnns/data/SBMs/prepare_SBM_PATTERN.ipynb#ch0000012?line=3'>4</a>\u001b[0m collate \u001b[39m=\u001b[39m SBMsDataset\u001b[39m.\u001b[39mcollate\n\u001b[0;32m----> <a href='vscode-notebook-cell:/home/psoga/Documents/projects/benchmarking-gnns/data/SBMs/prepare_SBM_PATTERN.ipynb#ch0000012?line=4'>5</a>\u001b[0m train_loader \u001b[39m=\u001b[39m DataLoader(trainset, batch_size\u001b[39m=\u001b[39mbatch_size, shuffle\u001b[39m=\u001b[39m\u001b[39mTrue\u001b[39;00m, collate_fn\u001b[39m=\u001b[39mcollate)\n\u001b[1;32m      <a href='vscode-notebook-cell:/home/psoga/Documents/projects/benchmarking-gnns/data/SBMs/prepare_SBM_PATTERN.ipynb#ch0000012?line=6'>7</a>\u001b[0m \u001b[39mprint\u001b[39m(\u001b[39m'\u001b[39m\u001b[39mTime (sec):\u001b[39m\u001b[39m'\u001b[39m,time\u001b[39m.\u001b[39mtime() \u001b[39m-\u001b[39m start)\n",
      "\u001b[0;31mNameError\u001b[0m: name 'trainset' is not defined"
     ]
    }
   ],
   "source": [
    "start = time.time()\n",
    "\n",
    "batch_size = 10\n",
    "collate = SBMsDataset.collate\n",
    "train_loader = DataLoader(trainset, batch_size=batch_size, shuffle=True, collate_fn=collate)\n",
    "\n",
    "print('Time (sec):',time.time() - start) "
   ]
  },
  {
   "cell_type": "code",
   "execution_count": 8,
   "metadata": {},
   "outputs": [
    {
     "ename": "AttributeError",
     "evalue": "'DotDict' object has no attribute 'number_of_nodes'",
     "output_type": "error",
     "traceback": [
      "\u001b[0;31m---------------------------------------------------------------------------\u001b[0m",
      "\u001b[0;31mAttributeError\u001b[0m                            Traceback (most recent call last)",
      "\u001b[1;32m/home/psoga/Documents/projects/benchmarking-gnns/data/SBMs/prepare_SBM_PATTERN.ipynb Cell 12'\u001b[0m in \u001b[0;36m<cell line: 1>\u001b[0;34m()\u001b[0m\n\u001b[1;32m      <a href='vscode-notebook-cell:/home/psoga/Documents/projects/benchmarking-gnns/data/SBMs/prepare_SBM_PATTERN.ipynb#ch0000011?line=1'>2</a>\u001b[0m     train_loader, val_loader, test_loader \u001b[39m=\u001b[39m pickle\u001b[39m.\u001b[39mload(f)\n\u001b[1;32m      <a href='vscode-notebook-cell:/home/psoga/Documents/projects/benchmarking-gnns/data/SBMs/prepare_SBM_PATTERN.ipynb#ch0000011?line=2'>3</a>\u001b[0m     \u001b[39m# get average number of nodes per graph in train_loader\u001b[39;00m\n\u001b[0;32m----> <a href='vscode-notebook-cell:/home/psoga/Documents/projects/benchmarking-gnns/data/SBMs/prepare_SBM_PATTERN.ipynb#ch0000011?line=3'>4</a>\u001b[0m     avg_num_nodes \u001b[39m=\u001b[39m np\u001b[39m.\u001b[39mmean([\u001b[39mlen\u001b[39m(g\u001b[39m.\u001b[39mnumber_of_nodes()) \u001b[39mfor\u001b[39;00m g \u001b[39min\u001b[39;00m train_loader\u001b[39m.\u001b[39mdataset])\n\u001b[1;32m      <a href='vscode-notebook-cell:/home/psoga/Documents/projects/benchmarking-gnns/data/SBMs/prepare_SBM_PATTERN.ipynb#ch0000011?line=4'>5</a>\u001b[0m train_loader[\u001b[39m0\u001b[39m]\n",
      "\u001b[1;32m/home/psoga/Documents/projects/benchmarking-gnns/data/SBMs/prepare_SBM_PATTERN.ipynb Cell 12'\u001b[0m in \u001b[0;36m<listcomp>\u001b[0;34m(.0)\u001b[0m\n\u001b[1;32m      <a href='vscode-notebook-cell:/home/psoga/Documents/projects/benchmarking-gnns/data/SBMs/prepare_SBM_PATTERN.ipynb#ch0000011?line=1'>2</a>\u001b[0m     train_loader, val_loader, test_loader \u001b[39m=\u001b[39m pickle\u001b[39m.\u001b[39mload(f)\n\u001b[1;32m      <a href='vscode-notebook-cell:/home/psoga/Documents/projects/benchmarking-gnns/data/SBMs/prepare_SBM_PATTERN.ipynb#ch0000011?line=2'>3</a>\u001b[0m     \u001b[39m# get average number of nodes per graph in train_loader\u001b[39;00m\n\u001b[0;32m----> <a href='vscode-notebook-cell:/home/psoga/Documents/projects/benchmarking-gnns/data/SBMs/prepare_SBM_PATTERN.ipynb#ch0000011?line=3'>4</a>\u001b[0m     avg_num_nodes \u001b[39m=\u001b[39m np\u001b[39m.\u001b[39mmean([\u001b[39mlen\u001b[39m(g\u001b[39m.\u001b[39;49mnumber_of_nodes()) \u001b[39mfor\u001b[39;00m g \u001b[39min\u001b[39;00m train_loader\u001b[39m.\u001b[39mdataset])\n\u001b[1;32m      <a href='vscode-notebook-cell:/home/psoga/Documents/projects/benchmarking-gnns/data/SBMs/prepare_SBM_PATTERN.ipynb#ch0000011?line=4'>5</a>\u001b[0m train_loader[\u001b[39m0\u001b[39m]\n",
      "\u001b[0;31mAttributeError\u001b[0m: 'DotDict' object has no attribute 'number_of_nodes'"
     ]
    }
   ],
   "source": [
    "with open(\"./data/SBMs/SBM_PATTERN.pkl\", \"rb\") as f:\n",
    "    train_loader, val_loader, test_loader = pickle.load(f)\n",
    "    # get average number of nodes per graph in train_loader\n",
    "    avg_num_nodes = np.mean([len(g.number_of_nodes()) for g in train_loader.dataset])\n",
    "train_loader[0]"
   ]
  },
  {
   "cell_type": "code",
   "execution_count": 23,
   "metadata": {},
   "outputs": [
    {
     "data": {
      "image/png": "[encoded data removed]",
      "text/plain": [
       "<Figure size 432x288 with 1 Axes>"
      ]
     },
     "metadata": {
      "needs_background": "light"
     },
     "output_type": "display_data"
    }
   ],
   "source": [
    "# node_dist = [len(g.number_of_nodes()) for g in train_loader.dataset]\n",
    "node_dist = [g.nb_nodes for g in train_loader.dataset]\n",
    "plt.hist(node_dist)\n",
    "plt.show()\n"
   ]
  },
  {
   "cell_type": "code",
   "execution_count": null,
   "metadata": {},
   "outputs": [],
   "source": []
  }
 ],
 "metadata": {
  "kernelspec": {
   "display_name": "Python 3.8.10 ('gnn')",
   "language": "python",
   "name": "python3"
  },
  "language_info": {
   "codemirror_mode": {
    "name": "ipython",
    "version": 3
   },
   "file_extension": ".py",
   "mimetype": "text/x-python",
   "name": "python",
   "nbconvert_exporter": "python",
   "pygments_lexer": "ipython3",
   "version": "3.8.10"
  },
  "vscode": {
   "interpreter": {
    "hash": "f7fe216062a07faf7ec3b52e917e13a4b7ba3074eea43b649aa296dc1fb0b724"
   }
  }
 },
 "nbformat": 4,
 "nbformat_minor": 4
}
